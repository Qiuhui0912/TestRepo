{
 "cells": [
  {
   "cell_type": "markdown",
   "id": "e8c24770-40d6-4298-8aca-f7be71f1cdbf",
   "metadata": {},
   "source": [
    "# Data Science Tools and Ecosysterm"
   ]
  },
  {
   "cell_type": "markdown",
   "id": "934e3383-1dbd-4ab4-aac9-41c4d362b114",
   "metadata": {},
   "source": [
    "In this notebook, Data Science Tools and Ecosystem are summarized."
   ]
  },
  {
   "cell_type": "markdown",
   "id": "96df4fd5-bbba-4223-ba73-a605b7676f6c",
   "metadata": {},
   "source": [
    "**Objectives:**"
   ]
  },
  {
   "cell_type": "markdown",
   "id": "d7d34f55-7017-43ca-aace-22c5213b93a8",
   "metadata": {},
   "source": [
    "-Interactive Computing & Code Execution\n",
    "-Data Visualization & Exploration\n",
    "-Support for Multiple Kernels\n",
    "-Integration with Big Data & AI Tools"
   ]
  },
  {
   "cell_type": "markdown",
   "id": "f919dda2-aa37-46fe-83ee-8bf2508b1cbe",
   "metadata": {},
   "source": [
    "Some of the popular languages that Data Scientists use are:"
   ]
  },
  {
   "cell_type": "markdown",
   "id": "bba3f8e4-0773-41ac-a8ee-f3eccd67ce49",
   "metadata": {},
   "source": [
    "1. Python\n",
    "2. R\n",
    "3. SQL\n",
    "4. Julia (optional)"
   ]
  },
  {
   "cell_type": "markdown",
   "id": "dd613d3f-0032-4f6e-accc-3d319c9108c6",
   "metadata": {},
   "source": [
    "Some of the commonly used libraries used by Data Scientists include:"
   ]
  },
  {
   "cell_type": "markdown",
   "id": "4b3094ea-889b-4306-9ca4-1126e34301c5",
   "metadata": {},
   "source": [
    "- Pandas  \n",
    "- NumPy  \n",
    "- Matplotlib  \n",
    "- Scikit-learn  \n",
    "- TensorFlow  \n",
    "- PyTorch  \n",
    "- Seaborn  \n",
    "- Keras  "
   ]
  },
  {
   "cell_type": "markdown",
   "id": "1892ec0c-3b3b-4d80-95d5-f9c57b1f4e3d",
   "metadata": {},
   "source": [
    "### Below are a few examples of evaluating arithmetic expressions in Python"
   ]
  },
  {
   "cell_type": "code",
   "execution_count": 5,
   "id": "f6596767-d6e3-4f6d-94f7-4fbeaa9257ca",
   "metadata": {},
   "outputs": [],
   "source": [
    "#This a simple arithmetic expression to mutiply then add integers."
   ]
  },
  {
   "cell_type": "code",
   "execution_count": 6,
   "id": "0562f726-2054-41a4-8c7d-8b75cd67cacf",
   "metadata": {},
   "outputs": [
    {
     "data": {
      "text/plain": [
       "17"
      ]
     },
     "execution_count": 6,
     "metadata": {},
     "output_type": "execute_result"
    }
   ],
   "source": [
    "(3*4)+5"
   ]
  },
  {
   "cell_type": "code",
   "execution_count": null,
   "id": "ab076366-95b0-415d-94ae-eaf2a594797b",
   "metadata": {},
   "outputs": [],
   "source": [
    "#This will convert 200 minutes to hours by diving by 60"
   ]
  },
  {
   "cell_type": "code",
   "execution_count": 7,
   "id": "f7c8f868-15b2-4f21-add3-3b223afd5bd2",
   "metadata": {},
   "outputs": [
    {
     "name": "stdout",
     "output_type": "stream",
     "text": [
      "200 minutes = 3.33 hours\n"
     ]
    }
   ],
   "source": [
    "minutes = 200\n",
    "hours = minutes / 60\n",
    "\n",
    "print(f\"{minutes} minutes = {hours:.2f} hours\")"
   ]
  },
  {
   "cell_type": "code",
   "execution_count": null,
   "id": "1f9de270-ea62-4d99-a4d9-a9cf05f019f6",
   "metadata": {},
   "outputs": [],
   "source": []
  }
 ],
 "metadata": {
  "kernelspec": {
   "display_name": "anaconda-panel-2023.05-py310",
   "language": "python",
   "name": "conda-env-anaconda-panel-2023.05-py310-py"
  },
  "language_info": {
   "codemirror_mode": {
    "name": "ipython",
    "version": 3
   },
   "file_extension": ".py",
   "mimetype": "text/x-python",
   "name": "python",
   "nbconvert_exporter": "python",
   "pygments_lexer": "ipython3",
   "version": "3.11.5"
  }
 },
 "nbformat": 4,
 "nbformat_minor": 5
}
